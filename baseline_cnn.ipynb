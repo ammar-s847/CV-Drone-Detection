{
  "cells": [
    {
      "cell_type": "markdown",
      "metadata": {
        "id": "VI8EwCAkRd0f"
      },
      "source": [
        "# Drone Detection - Baseline Model"
      ]
    },
    {
      "cell_type": "code",
      "execution_count": null,
      "metadata": {},
      "outputs": [],
      "source": [
        "%pip install -r requirements.in"
      ]
    },
    {
      "cell_type": "code",
      "execution_count": 99,
      "metadata": {
        "id": "EQesrLznTe1S"
      },
      "outputs": [],
      "source": [
        "from typing import List, Dict, Tuple, Union\n",
        "import os\n",
        "import re\n",
        "import time\n",
        "import shutil\n",
        "import numpy as np\n",
        "import pandas as pd\n",
        "import matplotlib.pyplot as plt\n",
        "import seaborn as sns\n",
        "from tqdm import tqdm\n",
        "from pathlib import Path\n",
        "from PIL import Image\n",
        "import torch\n",
        "import torch.nn as nn\n",
        "import torch.optim as optim\n",
        "import torch.nn.functional as F\n",
        "from torch.utils.data import Dataset, DataLoader\n",
        "import torchvision\n",
        "import torchvision.transforms as transforms\n",
        "from torchsummary import summary\n",
        "from sklearn.model_selection import KFold\n",
        "from sklearn.metrics import f1_score, precision_score, recall_score\n",
        "\n",
        "# Local utils.py\n",
        "import nbutils\n",
        "\n",
        "sns.set_theme()"
      ]
    },
    {
      "cell_type": "code",
      "execution_count": 96,
      "metadata": {},
      "outputs": [],
      "source": [
        "device = \"cpu\"\n",
        "\n",
        "if torch.cuda.is_available():\n",
        "    device = \"cuda\"\n",
        "elif torch.backends.mps.is_available():\n",
        "    device = \"mps\""
      ]
    },
    {
      "cell_type": "markdown",
      "metadata": {
        "id": "GWJ-lFdcUNuz"
      },
      "source": [
        "## Load Dataset"
      ]
    },
    {
      "cell_type": "code",
      "execution_count": 42,
      "metadata": {
        "colab": {
          "base_uri": "https://localhost:8080/"
        },
        "id": "6o7bdtZMOR0V",
        "outputId": "69c601fb-dd27-4f14-cf10-11286b05eaf1"
      },
      "outputs": [
        {
          "data": {
            "text/plain": [
              "['V_BIRD_03392_195_png.rf.9d971c3dc04a00cc892a2a76cdf986ea.txt',\n",
              " 'V_AIRPLANE_0077_111_png.rf.c602106252445ad944d9609db95dc001.txt',\n",
              " 'V_DRONE_056166_062_png.rf.64434b6dbc43420ee6914e5d0b216e25.txt',\n",
              " 'V_HELICOPTER_017241_133_png.rf.14d0776b6bf84653773d3728cecf5d99.txt',\n",
              " 'V_BIRD_00261_270_png.rf.5c496c5818dfb824f8baaf59fa9911c6.txt']"
            ]
          },
          "execution_count": 42,
          "metadata": {},
          "output_type": "execute_result"
        }
      ],
      "source": [
        "os.listdir(\"./data/drone-detection/drone-detection-new.v5-new-train.yolov8/train/labels\")[:5]"
      ]
    },
    {
      "cell_type": "code",
      "execution_count": 21,
      "metadata": {
        "colab": {
          "base_uri": "https://localhost:8080/"
        },
        "id": "gAPNR-l9VPDq",
        "outputId": "7c775565-e0b5-4108-e69c-c2169b0463cc"
      },
      "outputs": [
        {
          "data": {
            "text/plain": [
              "['V_AIRPLANE_05151_221_png.rf.21d8b8b16f0a7fb7875c0d1584ddbf92.jpg',\n",
              " 'V_BIRD_03695_252_png.rf.7e3f49c841f7cf3859533521242e48ff.jpg',\n",
              " 'V_DRONE_103213_296_png.rf.db33011e4446e972d708922853888aed.jpg',\n",
              " 'V_DRONE_022132_051_png.rf.ac77e7ef522f554d820848d0a4ae631b.jpg',\n",
              " 'V_BIRD_051110_276_png.rf.31dfc6416f67ab3de1288f181788db07.jpg']"
            ]
          },
          "execution_count": 21,
          "metadata": {},
          "output_type": "execute_result"
        }
      ],
      "source": [
        "os.listdir(\"./data/drone-detection/drone-detection-new.v5-new-train.yolov8/train/images\")[:5]"
      ]
    },
    {
      "cell_type": "code",
      "execution_count": 58,
      "metadata": {
        "id": "YiZl2vIrbgd4"
      },
      "outputs": [],
      "source": [
        "base_path = \"./data/drone-detection/drone-detection-new.v5-new-train.yolov8/train\"\n",
        "images_path = os.path.join(base_path, \"images\")\n",
        "labels_path = os.path.join(base_path, \"labels\")\n",
        "\n",
        "df = nbutils.create_dataset(images_path, labels_path)"
      ]
    },
    {
      "cell_type": "markdown",
      "metadata": {
        "id": "9L7-iFSqcCVM"
      },
      "source": [
        "## Exploratory Data Analysis"
      ]
    },
    {
      "cell_type": "code",
      "execution_count": null,
      "metadata": {
        "colab": {
          "base_uri": "https://localhost:8080/"
        },
        "id": "2A8oQgRdcFjO",
        "outputId": "5bee3281-993c-4540-9c43-277bc6c6294c"
      },
      "outputs": [],
      "source": [
        "nbutils.view_df_summary(df)"
      ]
    },
    {
      "cell_type": "code",
      "execution_count": 61,
      "metadata": {
        "colab": {
          "base_uri": "https://localhost:8080/"
        },
        "id": "eCo8E0NkbN--",
        "outputId": "3283ef22-f46e-4073-aefd-7d11130efa4d"
      },
      "outputs": [
        {
          "name": "stdout",
          "output_type": "stream",
          "text": [
            "<class 'pandas.core.frame.DataFrame'>\n",
            "RangeIndex: 8997 entries, 0 to 8996\n",
            "Data columns (total 12 columns):\n",
            " #   Column        Non-Null Count  Dtype  \n",
            "---  ------        --------------  -----  \n",
            " 0   image_file    8997 non-null   object \n",
            " 1   label_file    8997 non-null   object \n",
            " 2   image_id      8997 non-null   object \n",
            " 3   class         8997 non-null   object \n",
            " 4   x_center      8997 non-null   float64\n",
            " 5   y_center      8997 non-null   float64\n",
            " 6   width         8997 non-null   float64\n",
            " 7   height        8997 non-null   float64\n",
            " 8   image_width   8997 non-null   int64  \n",
            " 9   image_height  8997 non-null   int64  \n",
            " 10  image_path    8997 non-null   object \n",
            " 11  label_path    8997 non-null   object \n",
            "dtypes: float64(4), int64(2), object(6)\n",
            "memory usage: 843.6+ KB\n"
          ]
        }
      ],
      "source": [
        "df.info()"
      ]
    },
    {
      "cell_type": "code",
      "execution_count": 62,
      "metadata": {
        "colab": {
          "base_uri": "https://localhost:8080/",
          "height": 487
        },
        "id": "_oyhLjoxcM9c",
        "outputId": "67964262-b600-4278-b3ad-4cabad16a79d"
      },
      "outputs": [
        {
          "data": {
            "text/html": [
              "<div>\n",
              "<style scoped>\n",
              "    .dataframe tbody tr th:only-of-type {\n",
              "        vertical-align: middle;\n",
              "    }\n",
              "\n",
              "    .dataframe tbody tr th {\n",
              "        vertical-align: top;\n",
              "    }\n",
              "\n",
              "    .dataframe thead th {\n",
              "        text-align: right;\n",
              "    }\n",
              "</style>\n",
              "<table border=\"1\" class=\"dataframe\">\n",
              "  <thead>\n",
              "    <tr style=\"text-align: right;\">\n",
              "      <th></th>\n",
              "      <th>image_file</th>\n",
              "      <th>label_file</th>\n",
              "      <th>image_id</th>\n",
              "      <th>class</th>\n",
              "      <th>x_center</th>\n",
              "      <th>y_center</th>\n",
              "      <th>width</th>\n",
              "      <th>height</th>\n",
              "      <th>image_width</th>\n",
              "      <th>image_height</th>\n",
              "      <th>image_path</th>\n",
              "      <th>label_path</th>\n",
              "    </tr>\n",
              "  </thead>\n",
              "  <tbody>\n",
              "    <tr>\n",
              "      <th>0</th>\n",
              "      <td>V_HELICOPTER_013237_222_png.rf.67ee88f10c1af6f...</td>\n",
              "      <td>V_HELICOPTER_013237_222_png.rf.67ee88f10c1af6f...</td>\n",
              "      <td>013237_222</td>\n",
              "      <td>HELICOPTER</td>\n",
              "      <td>0.561719</td>\n",
              "      <td>0.639062</td>\n",
              "      <td>0.032031</td>\n",
              "      <td>0.043750</td>\n",
              "      <td>640</td>\n",
              "      <td>640</td>\n",
              "      <td>./data/drone-detection/drone-detection-new.v5-...</td>\n",
              "      <td>./data/drone-detection/drone-detection-new.v5-...</td>\n",
              "    </tr>\n",
              "    <tr>\n",
              "      <th>1</th>\n",
              "      <td>V_DRONE_009119_221_png.rf.d577aad70873a29c97c2...</td>\n",
              "      <td>V_DRONE_009119_221_png.rf.d577aad70873a29c97c2...</td>\n",
              "      <td>009119_221</td>\n",
              "      <td>DRONE</td>\n",
              "      <td>0.524219</td>\n",
              "      <td>0.312500</td>\n",
              "      <td>0.037500</td>\n",
              "      <td>0.032031</td>\n",
              "      <td>640</td>\n",
              "      <td>640</td>\n",
              "      <td>./data/drone-detection/drone-detection-new.v5-...</td>\n",
              "      <td>./data/drone-detection/drone-detection-new.v5-...</td>\n",
              "    </tr>\n",
              "    <tr>\n",
              "      <th>2</th>\n",
              "      <td>V_DRONE_087197_027_png.rf.231f13db2fe70d87c56e...</td>\n",
              "      <td>V_DRONE_087197_027_png.rf.231f13db2fe70d87c56e...</td>\n",
              "      <td>087197_027</td>\n",
              "      <td>DRONE</td>\n",
              "      <td>0.619531</td>\n",
              "      <td>0.521875</td>\n",
              "      <td>0.092188</td>\n",
              "      <td>0.098437</td>\n",
              "      <td>640</td>\n",
              "      <td>640</td>\n",
              "      <td>./data/drone-detection/drone-detection-new.v5-...</td>\n",
              "      <td>./data/drone-detection/drone-detection-new.v5-...</td>\n",
              "    </tr>\n",
              "    <tr>\n",
              "      <th>3</th>\n",
              "      <td>V_DRONE_023133_005_png.rf.4829336ee822c17c31e7...</td>\n",
              "      <td>V_DRONE_023133_005_png.rf.4829336ee822c17c31e7...</td>\n",
              "      <td>023133_005</td>\n",
              "      <td>DRONE</td>\n",
              "      <td>0.634375</td>\n",
              "      <td>0.720313</td>\n",
              "      <td>0.081250</td>\n",
              "      <td>0.049219</td>\n",
              "      <td>640</td>\n",
              "      <td>640</td>\n",
              "      <td>./data/drone-detection/drone-detection-new.v5-...</td>\n",
              "      <td>./data/drone-detection/drone-detection-new.v5-...</td>\n",
              "    </tr>\n",
              "    <tr>\n",
              "      <th>4</th>\n",
              "      <td>V_DRONE_087197_234_png.rf.2478eedaa51e1d365f8c...</td>\n",
              "      <td>V_DRONE_087197_234_png.rf.2478eedaa51e1d365f8c...</td>\n",
              "      <td>087197_234</td>\n",
              "      <td>DRONE</td>\n",
              "      <td>0.688281</td>\n",
              "      <td>0.199219</td>\n",
              "      <td>0.083594</td>\n",
              "      <td>0.089844</td>\n",
              "      <td>640</td>\n",
              "      <td>640</td>\n",
              "      <td>./data/drone-detection/drone-detection-new.v5-...</td>\n",
              "      <td>./data/drone-detection/drone-detection-new.v5-...</td>\n",
              "    </tr>\n",
              "  </tbody>\n",
              "</table>\n",
              "</div>"
            ],
            "text/plain": [
              "                                          image_file  \\\n",
              "0  V_HELICOPTER_013237_222_png.rf.67ee88f10c1af6f...   \n",
              "1  V_DRONE_009119_221_png.rf.d577aad70873a29c97c2...   \n",
              "2  V_DRONE_087197_027_png.rf.231f13db2fe70d87c56e...   \n",
              "3  V_DRONE_023133_005_png.rf.4829336ee822c17c31e7...   \n",
              "4  V_DRONE_087197_234_png.rf.2478eedaa51e1d365f8c...   \n",
              "\n",
              "                                          label_file    image_id       class  \\\n",
              "0  V_HELICOPTER_013237_222_png.rf.67ee88f10c1af6f...  013237_222  HELICOPTER   \n",
              "1  V_DRONE_009119_221_png.rf.d577aad70873a29c97c2...  009119_221       DRONE   \n",
              "2  V_DRONE_087197_027_png.rf.231f13db2fe70d87c56e...  087197_027       DRONE   \n",
              "3  V_DRONE_023133_005_png.rf.4829336ee822c17c31e7...  023133_005       DRONE   \n",
              "4  V_DRONE_087197_234_png.rf.2478eedaa51e1d365f8c...  087197_234       DRONE   \n",
              "\n",
              "   x_center  y_center     width    height  image_width  image_height  \\\n",
              "0  0.561719  0.639062  0.032031  0.043750          640           640   \n",
              "1  0.524219  0.312500  0.037500  0.032031          640           640   \n",
              "2  0.619531  0.521875  0.092188  0.098437          640           640   \n",
              "3  0.634375  0.720313  0.081250  0.049219          640           640   \n",
              "4  0.688281  0.199219  0.083594  0.089844          640           640   \n",
              "\n",
              "                                          image_path  \\\n",
              "0  ./data/drone-detection/drone-detection-new.v5-...   \n",
              "1  ./data/drone-detection/drone-detection-new.v5-...   \n",
              "2  ./data/drone-detection/drone-detection-new.v5-...   \n",
              "3  ./data/drone-detection/drone-detection-new.v5-...   \n",
              "4  ./data/drone-detection/drone-detection-new.v5-...   \n",
              "\n",
              "                                          label_path  \n",
              "0  ./data/drone-detection/drone-detection-new.v5-...  \n",
              "1  ./data/drone-detection/drone-detection-new.v5-...  \n",
              "2  ./data/drone-detection/drone-detection-new.v5-...  \n",
              "3  ./data/drone-detection/drone-detection-new.v5-...  \n",
              "4  ./data/drone-detection/drone-detection-new.v5-...  "
            ]
          },
          "execution_count": 62,
          "metadata": {},
          "output_type": "execute_result"
        }
      ],
      "source": [
        "df.head()"
      ]
    },
    {
      "cell_type": "code",
      "execution_count": 63,
      "metadata": {
        "colab": {
          "base_uri": "https://localhost:8080/",
          "height": 434
        },
        "id": "dMZvVdVtevVw",
        "outputId": "3d3a0b8e-12e5-4923-c82a-865afd7b05db"
      },
      "outputs": [
        {
          "data": {
            "image/png": "[encoded data removed]",
            "text/plain": [
              "<Figure size 640x480 with 1 Axes>"
            ]
          },
          "metadata": {},
          "output_type": "display_data"
        }
      ],
      "source": [
        "df.groupby('class').size().plot(kind='barh', color=sns.palettes.mpl_palette('Dark2'))\n",
        "plt.gca().spines[['top', 'right',]].set_visible(False)"
      ]
    },
    {
      "cell_type": "code",
      "execution_count": 64,
      "metadata": {
        "colab": {
          "base_uri": "https://localhost:8080/",
          "height": 573
        },
        "id": "6hvpBmzDfCFO",
        "outputId": "466907d0-bffc-417f-a20b-c24a6f3cd481"
      },
      "outputs": [
        {
          "data": {
            "image/png": "[encoded data removed]",
            "text/plain": [
              "<Figure size 1200x600 with 2 Axes>"
            ]
          },
          "metadata": {},
          "output_type": "display_data"
        }
      ],
      "source": [
        "plt.figure(figsize=(12, 6))\n",
        "plt.subplot(1, 2, 1)\n",
        "sns.boxplot(x='class', y='width', data=df)\n",
        "plt.title('Distribution of Bounding Box Width by Object Class')\n",
        "plt.xlabel('Object Class')\n",
        "plt.ylabel('Width')\n",
        "\n",
        "plt.subplot(1, 2, 2)\n",
        "sns.boxplot(x='class', y='height', data=df)\n",
        "plt.title('Distribution of Bounding Box Height by Object Class')\n",
        "plt.xlabel('Object Class')\n",
        "_ = plt.ylabel('Height')"
      ]
    },
    {
      "cell_type": "markdown",
      "metadata": {},
      "source": [
        "## Dataset and Dataloader"
      ]
    },
    {
      "cell_type": "code",
      "execution_count": 91,
      "metadata": {},
      "outputs": [],
      "source": [
        "class DroneDetectionDataset(Dataset):\n",
        "    def __init__(self, dataframe, transform=None):\n",
        "        self.df = dataframe\n",
        "        self.transform = transform\n",
        "        self.unique_images = self.df.groupby('image_path').agg({\n",
        "            'x_center': list,\n",
        "            'y_center': list,\n",
        "            'width': list,\n",
        "            'height': list,\n",
        "            'class': list\n",
        "        }).reset_index()\n",
        "\n",
        "    def __len__(self):\n",
        "        return len(self.unique_images)\n",
        "\n",
        "    def __getitem__(self, idx):\n",
        "        row = self.unique_images.iloc[idx]\n",
        "\n",
        "        image = Image.open(row['image_path'])\n",
        "        if self.transform:\n",
        "            image = self.transform(image)\n",
        "\n",
        "        # Create a single box tensor\n",
        "        boxes = torch.zeros((1, 5))  # Shape: (1, 5)\n",
        "        boxes[:, 0] = -1  # Initialize with -1 for empty boxes\n",
        "\n",
        "        # Only use the first detection for now\n",
        "        if len(row['x_center']) > 0:\n",
        "            class_name = row['class'][0]\n",
        "            class_id = 0  # AIRPLANE\n",
        "            if class_name == 'DRONE':\n",
        "                class_id = 1\n",
        "            elif class_name == 'HELICOPTER':\n",
        "                class_id = 2\n",
        "\n",
        "            boxes[0] = torch.tensor([\n",
        "                float(class_id),\n",
        "                float(row['x_center'][0]),\n",
        "                float(row['y_center'][0]),\n",
        "                float(row['width'][0]),\n",
        "                float(row['height'][0])\n",
        "            ])\n",
        "\n",
        "        return image, boxes"
      ]
    },
    {
      "cell_type": "markdown",
      "metadata": {},
      "source": [
        "## Detection Loss Function"
      ]
    },
    {
      "cell_type": "code",
      "execution_count": 92,
      "metadata": {},
      "outputs": [],
      "source": [
        "class DetectionLoss(nn.Module):\n",
        "    def __init__(self, class_weight=1.0, bbox_weight=1.0):\n",
        "        super(DetectionLoss, self).__init__()\n",
        "        self.class_weight = class_weight\n",
        "        self.bbox_weight = bbox_weight\n",
        "\n",
        "    def box_iou(self, pred_boxes, target_boxes):\n",
        "        \"\"\"Calculate IoU between predicted and target boxes\"\"\"\n",
        "        # Convert center format to corners\n",
        "        pred_x1 = pred_boxes[:, 0] - pred_boxes[:, 2] / 2\n",
        "        pred_y1 = pred_boxes[:, 1] - pred_boxes[:, 3] / 2\n",
        "        pred_x2 = pred_boxes[:, 0] + pred_boxes[:, 2] / 2\n",
        "        pred_y2 = pred_boxes[:, 1] + pred_boxes[:, 3] / 2\n",
        "\n",
        "        target_x1 = target_boxes[:, 0] - target_boxes[:, 2] / 2\n",
        "        target_y1 = target_boxes[:, 1] - target_boxes[:, 3] / 2\n",
        "        target_x2 = target_boxes[:, 0] + target_boxes[:, 2] / 2\n",
        "        target_y2 = target_boxes[:, 1] + target_boxes[:, 3] / 2\n",
        "\n",
        "        # Calculate intersection area\n",
        "        x1 = torch.max(pred_x1, target_x1)\n",
        "        y1 = torch.max(pred_y1, target_y1)\n",
        "        x2 = torch.min(pred_x2, target_x2)\n",
        "        y2 = torch.min(pred_y2, target_y2)\n",
        "\n",
        "        intersection = torch.clamp(x2 - x1, min=0) * torch.clamp(y2 - y1, min=0)\n",
        "\n",
        "        # Calculate union area\n",
        "        pred_area = (pred_x2 - pred_x1) * (pred_y2 - pred_y1)\n",
        "        target_area = (target_x2 - target_x1) * (target_y2 - target_y1)\n",
        "        union = pred_area + target_area - intersection\n",
        "\n",
        "        return intersection / (union + 1e-6)\n",
        "\n",
        "    def forward(self, pred_scores, pred_boxes, target_boxes):\n",
        "        \"\"\"\n",
        "        Args:\n",
        "            pred_scores: (batch_size, num_boxes, num_classes)\n",
        "            pred_boxes: (batch_size, num_boxes, 4)\n",
        "            target_boxes: (batch_size, num_boxes, 5)\n",
        "        \"\"\"\n",
        "        device = pred_scores.device\n",
        "        batch_size = pred_scores.size(0)\n",
        "\n",
        "        # Ensure target_boxes has the correct shape\n",
        "        if len(target_boxes.shape) == 2:\n",
        "            target_boxes = target_boxes.unsqueeze(1)  # Add num_boxes dimension\n",
        "\n",
        "        # Create mask for valid boxes (where class_id != -1)\n",
        "        valid_mask = (target_boxes[..., 0] != -1)\n",
        "\n",
        "        # Classification loss (only for valid boxes)\n",
        "        target_classes = target_boxes[..., 0].long()\n",
        "\n",
        "        # Reshape pred_scores to match expected input shape for cross_entropy\n",
        "        pred_scores_reshaped = pred_scores.view(-1, pred_scores.size(-1))\n",
        "        target_classes_reshaped = target_classes.view(-1)\n",
        "\n",
        "        class_loss = F.cross_entropy(\n",
        "            pred_scores_reshaped,\n",
        "            target_classes_reshaped,\n",
        "            reduction='none',\n",
        "            ignore_index=-1\n",
        "        ).view(batch_size, -1)\n",
        "\n",
        "        class_loss = (class_loss * valid_mask.float()).sum() / (valid_mask.sum().float() + 1e-6)\n",
        "\n",
        "        # Bounding box regression loss (only for valid boxes)\n",
        "        valid_mask_expanded = valid_mask.unsqueeze(-1).expand(-1, -1, 4)\n",
        "        pred_coords = pred_boxes[valid_mask_expanded].view(-1, 4)\n",
        "        target_coords = target_boxes[..., 1:][valid_mask_expanded].view(-1, 4)\n",
        "\n",
        "        if len(pred_coords) > 0:\n",
        "            # Calculate IoU loss\n",
        "            iou_loss = 1 - self.box_iou(pred_coords, target_coords)\n",
        "            bbox_loss = iou_loss.mean()\n",
        "        else:\n",
        "            bbox_loss = torch.tensor(0.0).to(device)\n",
        "\n",
        "        # Combine losses\n",
        "        total_loss = self.class_weight * class_loss + self.bbox_weight * bbox_loss\n",
        "\n",
        "        return total_loss, class_loss, bbox_loss"
      ]
    },
    {
      "cell_type": "markdown",
      "metadata": {
        "id": "R9jqT7ZXOFsk"
      },
      "source": [
        "## Model Training"
      ]
    },
    {
      "cell_type": "code",
      "execution_count": 93,
      "metadata": {
        "id": "eiwjtTmKNfSV"
      },
      "outputs": [],
      "source": [
        "class MultiObjectAerialDetector(nn.Module):\n",
        "    def __init__(self, num_classes=3, num_boxes=1):\n",
        "        super(MultiObjectAerialDetector, self).__init__()\n",
        "        self.num_boxes = num_boxes\n",
        "\n",
        "        # Feature extraction layers\n",
        "        self.features = nn.Sequential(\n",
        "            # First conv block\n",
        "            nn.Conv2d(3, 64, kernel_size=7, stride=2, padding=3),\n",
        "            nn.BatchNorm2d(64),\n",
        "            nn.ReLU(inplace=True),\n",
        "            nn.MaxPool2d(kernel_size=3, stride=2, padding=1),\n",
        "\n",
        "            # Second conv block\n",
        "            nn.Conv2d(64, 128, kernel_size=3, padding=1),\n",
        "            nn.BatchNorm2d(128),\n",
        "            nn.ReLU(inplace=True),\n",
        "            nn.Conv2d(128, 128, kernel_size=3, padding=1),\n",
        "            nn.BatchNorm2d(128),\n",
        "            nn.ReLU(inplace=True),\n",
        "            nn.MaxPool2d(kernel_size=2, stride=2),\n",
        "\n",
        "            # Third conv block\n",
        "            nn.Conv2d(128, 256, kernel_size=3, padding=1),\n",
        "            nn.BatchNorm2d(256),\n",
        "            nn.ReLU(inplace=True),\n",
        "            nn.Conv2d(256, 256, kernel_size=3, padding=1),\n",
        "            nn.BatchNorm2d(256),\n",
        "            nn.ReLU(inplace=True),\n",
        "            nn.MaxPool2d(kernel_size=2, stride=2),\n",
        "\n",
        "            # Fourth conv block\n",
        "            nn.Conv2d(256, 512, kernel_size=3, padding=1),\n",
        "            nn.BatchNorm2d(512),\n",
        "            nn.ReLU(inplace=True),\n",
        "            nn.Conv2d(512, 512, kernel_size=3, padding=1),\n",
        "            nn.BatchNorm2d(512),\n",
        "            nn.ReLU(inplace=True)\n",
        "        )\n",
        "\n",
        "        # Multi-box detection head\n",
        "        self.detection_head = nn.Sequential(\n",
        "            nn.AdaptiveAvgPool2d(1),\n",
        "            nn.Flatten(),\n",
        "            nn.Linear(512, 512),\n",
        "            nn.ReLU(inplace=True),\n",
        "            nn.Dropout(0.5),\n",
        "            nn.Linear(512, 256),\n",
        "            nn.ReLU(inplace=True),\n",
        "            nn.Dropout(0.5),\n",
        "            nn.Linear(256, num_boxes * (num_classes + 4))  # class_scores + bbox coords per box\n",
        "        )\n",
        "\n",
        "        self._initialize_weights()\n",
        "\n",
        "    def _initialize_weights(self):\n",
        "        for m in self.modules():\n",
        "            if isinstance(m, nn.Conv2d):\n",
        "                nn.init.kaiming_normal_(m.weight, mode='fan_out', nonlinearity='relu')\n",
        "                if m.bias is not None:\n",
        "                    nn.init.constant_(m.bias, 0)\n",
        "            elif isinstance(m, nn.BatchNorm2d):\n",
        "                nn.init.constant_(m.weight, 1)\n",
        "                nn.init.constant_(m.bias, 0)\n",
        "            elif isinstance(m, nn.Linear):\n",
        "                nn.init.normal_(m.weight, 0, 0.01)\n",
        "                nn.init.constant_(m.bias, 0)\n",
        "\n",
        "    def forward(self, x):\n",
        "        features = self.features(x)\n",
        "        detections = self.detection_head(features)\n",
        "        batch_size = detections.size(0)\n",
        "\n",
        "        # Reshape output to (batch_size, num_boxes, num_classes + 4)\n",
        "        detections = detections.view(batch_size, self.num_boxes, -1)\n",
        "\n",
        "        # Split into class scores and bbox coordinates\n",
        "        class_scores = detections[..., :3]  # First 3 elements are class scores\n",
        "        bbox_coords = detections[..., 3:]   # Remaining 4 elements are bbox coordinates\n",
        "\n",
        "        # Apply sigmoid to bbox coordinates to constrain them between 0 and 1\n",
        "        bbox_coords = torch.sigmoid(bbox_coords)\n",
        "\n",
        "        return class_scores, bbox_coords"
      ]
    },
    {
      "cell_type": "code",
      "execution_count": 94,
      "metadata": {
        "id": "9ypWI9iRVTNI"
      },
      "outputs": [],
      "source": [
        "def train_model(model, train_loader, val_loader, num_epochs=10, device='cuda'):\n",
        "    model = model.to(device)\n",
        "    criterion = DetectionLoss()\n",
        "    optimizer = optim.Adam(model.parameters(), lr=0.001)\n",
        "    scheduler = optim.lr_scheduler.ReduceLROnPlateau(optimizer, mode='min', patience=3)\n",
        "\n",
        "    best_val_loss = float('inf')\n",
        "\n",
        "    for epoch in range(num_epochs):\n",
        "        model.train()\n",
        "        train_loss = 0.0\n",
        "        pbar = tqdm(train_loader, desc=f'Epoch {epoch+1}/{num_epochs}')\n",
        "\n",
        "        for images, boxes in pbar:\n",
        "            images = images.to(device)\n",
        "            boxes = boxes.to(device)\n",
        "\n",
        "            # Forward pass\n",
        "            pred_scores, pred_boxes = model(images)\n",
        "\n",
        "            # Calculate loss\n",
        "            loss, class_loss, bbox_loss = criterion(pred_scores, pred_boxes, boxes)\n",
        "\n",
        "            # Backward pass and optimize\n",
        "            optimizer.zero_grad()\n",
        "            loss.backward()\n",
        "            optimizer.step()\n",
        "\n",
        "            # Update metrics\n",
        "            train_loss += loss.item()\n",
        "            pbar.set_postfix({\n",
        "                'loss': f\"{train_loss/(pbar.n+1):.4f}\",\n",
        "                'class_loss': f\"{class_loss.item():.4f}\",\n",
        "                'bbox_loss': f\"{bbox_loss.item():.4f}\"\n",
        "            })\n",
        "\n",
        "        train_loss /= len(train_loader)\n",
        "\n",
        "        # Validation phase\n",
        "        model.eval()\n",
        "        val_loss = 0.0\n",
        "\n",
        "        with torch.no_grad():\n",
        "            for images, boxes in val_loader:\n",
        "                images = images.to(device)\n",
        "                boxes = boxes.to(device)\n",
        "\n",
        "                pred_scores, pred_boxes = model(images)\n",
        "                loss, _, _ = criterion(pred_scores, pred_boxes, boxes)\n",
        "                val_loss += loss.item()\n",
        "\n",
        "        val_loss /= len(val_loader)\n",
        "        scheduler.step(val_loss)\n",
        "\n",
        "        if val_loss < best_val_loss:\n",
        "            best_val_loss = val_loss\n",
        "            torch.save(model.state_dict(), 'best_aerial_detector.pth')\n",
        "\n",
        "        print(f'\\nEpoch {epoch+1}/{num_epochs}:')\n",
        "        print(f'Train Loss: {train_loss:.4f}')\n",
        "        print(f'Val Loss: {val_loss:.4f}')\n",
        "        print(f'Best Val Loss: {best_val_loss:.4f}')\n"
      ]
    },
    {
      "cell_type": "code",
      "execution_count": 95,
      "metadata": {
        "colab": {
          "base_uri": "https://localhost:8080/"
        },
        "id": "DfqXfOP9VU5r",
        "outputId": "efd46577-2222-491c-b6ce-d19cfd9ed7ea"
      },
      "outputs": [
        {
          "name": "stderr",
          "output_type": "stream",
          "text": [
            "Epoch 1/1: 100%|██████████| 441/441 [01:07<00:00,  6.53it/s, loss=1.4596, class_loss=0.6358, bbox_loss=0.9913]\n"
          ]
        },
        {
          "name": "stdout",
          "output_type": "stream",
          "text": [
            "\n",
            "Epoch 1/1:\n",
            "Train Loss: 1.4596\n",
            "Val Loss: 1.3154\n",
            "Best Val Loss: 1.3154\n"
          ]
        }
      ],
      "source": [
        "model = MultiObjectAerialDetector(num_classes=3, num_boxes=1)\n",
        "\n",
        "transform = transforms.Compose([\n",
        "    transforms.Resize((256, 256)),\n",
        "    transforms.ToTensor(),\n",
        "    transforms.Normalize(mean=[0.485, 0.456, 0.406],\n",
        "                        std=[0.229, 0.224, 0.225])\n",
        "])\n",
        "\n",
        "dataset = DroneDetectionDataset(df, transform=transform)\n",
        "\n",
        "train_size = int(0.8 * len(dataset))\n",
        "val_size = len(dataset) - train_size\n",
        "train_dataset, val_dataset = torch.utils.data.random_split(\n",
        "    dataset, [train_size, val_size]\n",
        ")\n",
        "\n",
        "train_loader = DataLoader(train_dataset, batch_size=16, shuffle=True)\n",
        "val_loader = DataLoader(val_dataset, batch_size=16, shuffle=False)\n",
        "\n",
        "# Train model\n",
        "train_model(model, train_loader, val_loader, 1, device=\"mps\")"
      ]
    },
    {
      "cell_type": "code",
      "execution_count": null,
      "metadata": {
        "colab": {
          "base_uri": "https://localhost:8080/"
        },
        "id": "uwYry7ajWida",
        "outputId": "810f3f7a-d03f-4e96-c3c4-2e8248921087"
      },
      "outputs": [
        {
          "name": "stdout",
          "output_type": "stream",
          "text": [
            "Predicted scores: tensor([[[ 0.1978, -1.0913,  0.2445]]], device='mps:0')\n",
            "Predicted boxes: tensor([[[0.4878, 0.4917, 0.4402, 0.4402]]], device='mps:0')\n",
            "Predicted class: tensor(2, device='mps:0')\n"
          ]
        }
      ],
      "source": [
        "sample_image, sample_boxes = dataset[0]\n",
        "\n",
        "sample_image = sample_image.unsqueeze(0).to(device)\n",
        "sample_boxes = sample_boxes.to(device)\n",
        "\n",
        "model.eval()\n",
        "\n",
        "with torch.no_grad():\n",
        "    pred_scores, pred_boxes = model(sample_image)\n",
        "\n",
        "print(\"Predicted scores:\", pred_scores)\n",
        "print(\"Predicted boxes:\", pred_boxes)\n",
        "\n",
        "predicted_class = torch.argmax(pred_scores[0, 0, :])\n",
        "print(\"Predicted class:\", predicted_class)\n"
      ]
    },
    {
      "cell_type": "markdown",
      "metadata": {},
      "source": [
        "## Metrics"
      ]
    },
    {
      "cell_type": "code",
      "execution_count": null,
      "metadata": {
        "colab": {
          "base_uri": "https://localhost:8080/"
        },
        "id": "ja-5Q3kcY4Cg",
        "outputId": "fa1deb22-f8ef-4328-cb8f-184dc4b4c9bb"
      },
      "outputs": [],
      "source": [
        "metrics = nbutils.evaluate_model(model, dataset, num_samples=10)\n",
        "metrics"
      ]
    },
    {
      "cell_type": "code",
      "execution_count": null,
      "metadata": {
        "id": "fUlkX_12T-FR"
      },
      "outputs": [],
      "source": []
    },
    {
      "cell_type": "code",
      "execution_count": null,
      "metadata": {
        "id": "Ijhm1yZhEN2Z"
      },
      "outputs": [],
      "source": []
    }
  ],
  "metadata": {
    "accelerator": "GPU",
    "colab": {
      "collapsed_sections": [
        "9L7-iFSqcCVM",
        "kvKx8afaut05"
      ],
      "gpuType": "T4",
      "provenance": []
    },
    "kernelspec": {
      "display_name": "Python 3",
      "name": "python3"
    },
    "language_info": {
      "codemirror_mode": {
        "name": "ipython",
        "version": 3
      },
      "file_extension": ".py",
      "mimetype": "text/x-python",
      "name": "python",
      "nbconvert_exporter": "python",
      "pygments_lexer": "ipython3",
      "version": "3.11.8"
    }
  },
  "nbformat": 4,
  "nbformat_minor": 0
}
